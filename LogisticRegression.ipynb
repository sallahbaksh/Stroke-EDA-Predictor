{
 "cells": [
  {
   "cell_type": "markdown",
   "metadata": {},
   "source": [
    "Logistic Regression\n",
    "- Explore the differences between batch and stochastic gradient descent\n",
    "- Implement K-Folds Cross-Validation\n"
   ]
  },
  {
   "cell_type": "code",
   "execution_count": 1,
   "metadata": {},
   "outputs": [],
   "source": [
    "import numpy as np\n",
    "import pandas as pd\n",
    "\n",
    "data = pd.read_csv('./stroke_data.csv')"
   ]
  },
  {
   "cell_type": "code",
   "execution_count": 2,
   "metadata": {},
   "outputs": [],
   "source": [
    "#find and fill null values with averages (BMI has 201 null values)\n",
    "avg = data['bmi'].mean()\n",
    "data.bmi = (data.bmi.fillna(avg))"
   ]
  },
  {
   "cell_type": "markdown",
   "metadata": {},
   "source": [
    "#### Give numerical values to categorical variables\n",
    "\n",
    "<table>\n",
    "    <thead>\n",
    "        <tr>\n",
    "            <th colspan=2>work_type</th>\n",
    "            <th colspan=2>gender</th>\n",
    "            <th colspan=2>Residence_type</th>\n",
    "            <th colspan=2>smoking_status</th>\n",
    "            <th colspan=2>ever_married</th>\n",
    "        </tr>\n",
    "    </thead>\n",
    "    <tbody>\n",
    "        <tr>\n",
    "            <td>Private</td>\n",
    "            <td>0</td>\n",
    "            <td>Male</td>\n",
    "            <td>0</td>\n",
    "            <td>Urban</td>\n",
    "            <td>0</td>\n",
    "            <td>formerly smoked</td>\n",
    "            <td>0</td>\n",
    "            <td>Yes</td>\n",
    "            <td>0</td>\n",
    "        </tr>\n",
    "        <tr>\n",
    "            <td>Self-employed</td>\n",
    "            <td>1</td>\n",
    "            <td>Female</td>\n",
    "            <td>1</td>\n",
    "            <td>Rural</td>\n",
    "            <td>1</td>\n",
    "            <td>never smoked</td>\n",
    "            <td>1</td>\n",
    "            <td>No</td>\n",
    "            <td>1</td>\n",
    "        </tr>\n",
    "        <tr>\n",
    "            <td>Govt_job</td>\n",
    "            <td>2</td>\n",
    "            <td>smokes</td>\n",
    "            <td>2</td>\n",
    "        </tr>\n",
    "        <tr>\n",
    "            <td>children</td>\n",
    "            <td>3</td>\n",
    "            <td>Unknown</td>\n",
    "            <td>3</td>\n",
    "        </tr>\n",
    "        <tr>\n",
    "            <td>Never_worked</td>\n",
    "            <td>4</td>\n",
    "        </tr>\n",
    "    </tbody>\n",
    "</table>"
   ]
  },
  {
   "cell_type": "code",
   "execution_count": 3,
   "metadata": {},
   "outputs": [],
   "source": [
    "data['work_type'] = data['work_type'].map(\n",
    "    {'Private': 0, 'Self-employed': 1, 'Govt_job': 2, 'children': 3, 'Never_worked': 4})\n",
    "data['gender'] = data['gender'].map({'Male': 0, 'Female': 1})\n",
    "data['Residence_type'] = data['Residence_type'].map({'Urban': 0, 'Rural': 1})\n",
    "data['smoking_status'] = data['smoking_status'].map(\n",
    "    {'formerly smoked': 0, 'never smoked': 1, 'smokes': 2, 'Unknown': 3})\n",
    "data['ever_married'] = data['ever_married'].map({'Yes': 0, 'No': 1})"
   ]
  },
  {
   "cell_type": "code",
   "execution_count": 4,
   "metadata": {},
   "outputs": [],
   "source": [
    "#divide dataset into features and labels\n",
    "#drop ID because it's not necessary for analysis\n",
    "X = data.iloc[:, 1:-1]\n",
    "y = data.loc[:, 'stroke']"
   ]
  },
  {
   "cell_type": "code",
   "execution_count": 5,
   "metadata": {},
   "outputs": [],
   "source": [
    "#replace null values again (1 in gender)\n",
    "X.gender = (X.gender.fillna(1))"
   ]
  },
  {
   "cell_type": "markdown",
   "metadata": {},
   "source": [
    "#### Standardize data"
   ]
  },
  {
   "cell_type": "code",
   "execution_count": 6,
   "metadata": {},
   "outputs": [],
   "source": [
    "#Standardizes the data using the mean and standard deviation\n",
    "mean = np.mean(X, axis=0)\n",
    "std = np.std(X, axis=0, ddof=1)\n",
    "s_X = (X - mean) / std\n",
    "\n",
    "#add bias feature\n",
    "bias = (np.ones((s_X.shape[0], 1)))\n",
    "s_X = np.append(s_X, bias, axis=1)"
   ]
  },
  {
   "cell_type": "markdown",
   "metadata": {},
   "source": [
    "#### Handle Imbalanced Data"
   ]
  },
  {
   "cell_type": "code",
   "execution_count": 7,
   "metadata": {},
   "outputs": [],
   "source": [
    "from imblearn.over_sampling import SMOTE\n",
    "\n",
    "smote = SMOTE()\n",
    "s_X, y = smote.fit_resample(s_X, y)"
   ]
  },
  {
   "cell_type": "markdown",
   "metadata": {},
   "source": [
    "#### Split the dataset into train and test"
   ]
  },
  {
   "cell_type": "code",
   "execution_count": 8,
   "metadata": {},
   "outputs": [],
   "source": [
    "from sklearn.model_selection import train_test_split\n",
    "\n",
    "X_train, X_test, y_train, y_test = train_test_split(s_X, y, test_size=0.33, random_state=0)"
   ]
  },
  {
   "cell_type": "code",
   "execution_count": 9,
   "metadata": {},
   "outputs": [],
   "source": [
    "import random\n",
    "import math\n",
    "\n",
    "#Initialize the parameters of θ using random values in the range [-1, 1]\n",
    "random.seed(0)\n",
    "thetas = np.random.uniform(-1, 1, 11)\n",
    "\n",
    "#variables \n",
    "n = 0.01  #learning rate\n",
    "count = pd.DataFrame()\n",
    "percent_change = 1\n",
    "count_num = 1\n",
    "cost = 1\n",
    "m = X_train.shape[0]\n",
    "#y_train = y_train.to_numpy()"
   ]
  },
  {
   "cell_type": "markdown",
   "metadata": {},
   "source": [
    "### Functions"
   ]
  },
  {
   "cell_type": "code",
   "execution_count": 10,
   "metadata": {},
   "outputs": [],
   "source": [
    "def sigmoid(x, thetas):\n",
    "    return (1 / (1 + math.e ** -(x @ thetas)))\n",
    "\n",
    "\n",
    "def gradient(X_train, y_train, thetas):\n",
    "    sig = sigmoid(X_train, thetas)\n",
    "    gradient = (X_train.T @ (sig - y_train))\n",
    "    return gradient\n",
    "\n",
    "\n",
    "#predictions\n",
    "def prediction(y_test, X_test, thetas):\n",
    "    size_test = y_test.shape[0]\n",
    "    predictions = np.zeros(size_test)\n",
    "    TP = FP = TN = FN = accuracy = 0\n",
    "\n",
    "    #find probability for 1 and 0\n",
    "    for a in range(size_test):\n",
    "        p_1 = 1 / (1 + math.e ** -(X_test[a] @ thetas))\n",
    "        p_0 = 1 - p_1\n",
    "        if (p_1 > p_0):\n",
    "            predictions[a] = 1\n",
    "        else:\n",
    "            predictions[a] = 0\n",
    "\n",
    "    #find TP, FP, TN, FN\n",
    "    for a in range(size_test):\n",
    "        if (predictions[a] == 1):\n",
    "            if (predictions[a] == y_test.iloc[a]):\n",
    "                TP = TP + 1\n",
    "                accuracy = accuracy + 1\n",
    "            else:\n",
    "                FP = FP + 1\n",
    "        else:\n",
    "            if (predictions[a] == y_test.iloc[a]):\n",
    "                TN = TN + 1\n",
    "                accuracy = accuracy + 1\n",
    "            else:\n",
    "                FN = FN + 1\n",
    "\n",
    "    #precision, recall, f measure, accuracy\n",
    "    precision = TP / (TP + FP)\n",
    "    recall = TP / (TP + FN)\n",
    "    F1 = (2 * precision * recall) / (precision + recall)\n",
    "    accuracy = accuracy / size_test\n",
    "\n",
    "    print(\"Accuracy: \", accuracy * 100)\n",
    "    print(\"Precision: \", precision * 100)\n",
    "    print(\"Recall: \", recall * 100)\n",
    "    print(\"F-measure: \", F1 * 100)\n",
    "    print(\"TP: \", TP, \"; FP: \", FP, \"; TN: \", TN, \"; FN: \", FN)\n"
   ]
  },
  {
   "cell_type": "code",
   "execution_count": 11,
   "metadata": {},
   "outputs": [],
   "source": [
    "def logisticBGD(X_train, y_train, X_test, y_test, n, m):\n",
    "    count_num = 0\n",
    "    new_cost = 0\n",
    "    percent_change = 1\n",
    "    thetas = np.random.uniform(-1, 1, 11)\n",
    "    #Terminate when absolute value change of loss on the data is\n",
    "    #less than 2−23, or after 1500 iterations have passed (whichever occurs first).\n",
    "    while (percent_change > (2 ** -23)):\n",
    "        if (count_num == 1500):\n",
    "            break\n",
    "\n",
    "        #batch gradient descent\n",
    "        thetas = thetas - ((n / m) * gradient(X_train, y_train, thetas))\n",
    "\n",
    "        #cost\n",
    "        total_cost = -np.sum((1 / m) * ((y_train * np.log(sigmoid(X_train, thetas) + epsilon)) + (1 - y_train) * np.log(\n",
    "            1 - sigmoid(X_train, thetas) + epsilon)))\n",
    "\n",
    "        #percent change\n",
    "        percent_change = abs((new_cost - total_cost) / total_cost)\n",
    "        new_cost = total_cost\n",
    "\n",
    "        count_num = count_num + 1\n",
    "\n",
    "    print(\"Thetas from batch gradient descent that minimize the loss function: \", thetas, \"\\n\")\n",
    "    prediction(y_test, X_test, thetas)\n",
    "\n",
    "\n",
    "def logisticSGD(X_train, y_train, y_test, X_test, n, m):\n",
    "    stoch_X_train = X_train\n",
    "    stoch_y_train = y_train\n",
    "    thetas = np.random.uniform(-1, 1, 11)\n",
    "    new_cost = 1\n",
    "    percent_change = 1\n",
    "    count_num = 1\n",
    "\n",
    "    #Terminate when absolute value change of loss on the data is less than 2−23, or after 1500 iterations have passed.\n",
    "    while (percent_change > (2 ** -23)):\n",
    "        if (count_num == 1500):\n",
    "            break\n",
    "\n",
    "        #stochastic gradient descent\n",
    "        index = np.random.permutation(stoch_X_train.shape[0])\n",
    "        stoch_X_train = np.take(stoch_X_train, index, axis=0)\n",
    "        stoch_y_train = np.take(stoch_y_train, index, axis=0)\n",
    "        thetas = thetas - ((n / m) * gradient(stoch_X_train, stoch_y_train, thetas))\n",
    "\n",
    "        #cost\n",
    "        total_cost = -np.sum(\n",
    "            (1 / m) * (stoch_y_train * np.log(sigmoid(stoch_X_train, thetas) + epsilon)) + (1 - stoch_y_train) * np.log(\n",
    "                1 - sigmoid(stoch_X_train, thetas) + epsilon))\n",
    "\n",
    "        #percent change\n",
    "        percent_change = abs((new_cost - total_cost) / total_cost)\n",
    "        new_cost = total_cost\n",
    "        count_num = count_num + 1\n",
    "\n",
    "    print(\"Thetas from stochastic gradient descent that minimize the loss function: \", thetas, \"\\n\")\n",
    "\n",
    "    prediction(y_test, X_test, thetas)"
   ]
  },
  {
   "cell_type": "markdown",
   "metadata": {},
   "source": [
    "#### Common Variables"
   ]
  },
  {
   "cell_type": "code",
   "execution_count": 12,
   "metadata": {},
   "outputs": [],
   "source": [
    "random.seed(0)\n",
    "n = 0.01  #learning rate\n",
    "m = X_train.shape[0]\n",
    "#y_train = y_train.to_numpy()\n",
    "epsilon = 1e-5"
   ]
  },
  {
   "cell_type": "markdown",
   "metadata": {},
   "source": [
    "#### Logistic Regression using Batch Gradient Descent"
   ]
  },
  {
   "cell_type": "code",
   "execution_count": 13,
   "metadata": {},
   "outputs": [
    {
     "name": "stdout",
     "output_type": "stream",
     "text": [
      "Thetas from batch gradient descent that minimize the loss function:  [-0.0656154   0.85660563  0.16558564  0.18538247 -0.4420313   0.14929404\n",
      " -0.10783202  0.18108406 -0.07771983 -0.0741092  -0.59249661] \n",
      "\n",
      "Accuracy:  76.84636958554066\n",
      "Precision:  72.41025641025641\n",
      "Recall:  87.3222016079159\n",
      "F-measure:  79.17017101205495\n",
      "TP:  1412 ; FP:  538 ; TN:  1054 ; FN:  205\n"
     ]
    }
   ],
   "source": [
    "logisticBGD(X_train, y_train, X_test, y_test, n, m)"
   ]
  },
  {
   "cell_type": "markdown",
   "metadata": {},
   "source": [
    "#### Logistic Regression using Stochastic Gradient Descent"
   ]
  },
  {
   "cell_type": "code",
   "execution_count": 14,
   "metadata": {},
   "outputs": [
    {
     "name": "stdout",
     "output_type": "stream",
     "text": [
      "Thetas from stochastic gradient descent that minimize the loss function:  [-0.00787528  1.22541272  0.17442663  0.16338165  0.06981183  0.08051117\n",
      "  0.00423683  0.20769603 -0.15014707 -0.12429964 -0.66191126] \n",
      "\n",
      "Accuracy:  77.96821439700842\n",
      "Precision:  74.56803455723542\n",
      "Recall:  85.40507111935683\n",
      "F-measure:  79.61948688382819\n",
      "TP:  1381 ; FP:  471 ; TN:  1121 ; FN:  236\n"
     ]
    }
   ],
   "source": [
    "logisticSGD(X_train, y_train, y_test, X_test, n, m)"
   ]
  },
  {
   "cell_type": "markdown",
   "metadata": {},
   "source": [
    "#### Built-in function"
   ]
  },
  {
   "cell_type": "code",
   "execution_count": 15,
   "metadata": {},
   "outputs": [
    {
     "name": "stdout",
     "output_type": "stream",
     "text": [
      "Accuracy:  0.7880959800560923\n",
      "Precision:  0.7675613934894346\n",
      "Recall:  0.8311688311688312\n",
      "F-measure:  0.7980997624703088\n"
     ]
    },
    {
     "data": {
      "image/png": "[encoded data removed]",
      "text/plain": [
       "<Figure size 432x288 with 2 Axes>"
      ]
     },
     "metadata": {
      "needs_background": "light"
     },
     "output_type": "display_data"
    }
   ],
   "source": [
    "import matplotlib.pyplot as plt\n",
    "from sklearn.linear_model import LogisticRegression\n",
    "from sklearn import metrics\n",
    "import seaborn as sn\n",
    "\n",
    "logistic_regression = LogisticRegression()\n",
    "logistic_regression.fit(X_train, y_train)\n",
    "y_pred = logistic_regression.predict(X_test)\n",
    "confusion_matrix = pd.crosstab(y_test, y_pred, rownames=['Actual'], colnames=['Predicted'])\n",
    "sn.heatmap(confusion_matrix, annot=True)\n",
    "print('Accuracy: ', metrics.accuracy_score(y_test, y_pred))\n",
    "print('Precision: ', metrics.precision_score(y_test, y_pred, zero_division=0))\n",
    "print('Recall: ', metrics.recall_score(y_test, y_pred))\n",
    "print('F-measure: ', metrics.f1_score(y_test, y_pred, zero_division=0))\n",
    "\n",
    "plt.show()"
   ]
  }
 ],
 "metadata": {
  "kernelspec": {
   "display_name": "Python 3",
   "language": "python",
   "name": "python3"
  },
  "language_info": {
   "codemirror_mode": {
    "name": "ipython",
    "version": 3
   },
   "file_extension": ".py",
   "mimetype": "text/x-python",
   "name": "python",
   "nbconvert_exporter": "python",
   "pygments_lexer": "ipython3",
   "version": "3.8.5"
  }
 },
 "nbformat": 4,
 "nbformat_minor": 4
}
