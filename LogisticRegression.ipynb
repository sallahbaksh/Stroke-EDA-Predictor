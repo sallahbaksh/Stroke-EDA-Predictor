{
 "cells": [
  {
   "cell_type": "markdown",
   "metadata": {},
   "source": [
    "### Imports"
   ]
  },
  {
   "cell_type": "code",
   "execution_count": 1,
   "metadata": {},
   "outputs": [],
   "source": [
    "import numpy as np\n",
    "import pandas as pd\n",
    "import imblearn\n",
    "import random\n",
    "import math\n",
    "from sklearn.model_selection import train_test_split\n",
    "from imblearn.over_sampling import SMOTE"
   ]
  },
  {
   "cell_type": "markdown",
   "metadata": {},
   "source": [
    "### Clean data"
   ]
  },
  {
   "cell_type": "code",
   "execution_count": 2,
   "metadata": {},
   "outputs": [],
   "source": [
    "data = pd.read_csv('./stroke_data.csv')\n",
    "#find and fill null values with averages (BMI has 201 null values)\n",
    "avg = data['bmi'].mean()\n",
    "data.bmi=(data.bmi.fillna(avg))"
   ]
  },
  {
   "cell_type": "markdown",
   "metadata": {},
   "source": [
    "#### Give numerical values to categorical variables\n",
    "\n",
    "<table>\n",
    "    <thead>\n",
    "        <tr>\n",
    "            <th colspan=2>work_type</th>\n",
    "            <th colspan=2>gender</th>\n",
    "            <th colspan=2>Residence_type</th>\n",
    "            <th colspan=2>smoking_status</th>\n",
    "            <th colspan=2>ever_married</th>\n",
    "        </tr>\n",
    "    </thead>\n",
    "    <tbody>\n",
    "        <tr>\n",
    "            <td>Private</td>\n",
    "            <td>0</td>\n",
    "            <td>Male</td>\n",
    "            <td>0</td>\n",
    "            <td>Urban</td>\n",
    "            <td>0</td>\n",
    "            <td>formerly smoked</td>\n",
    "            <td>0</td>\n",
    "            <td>Yes</td>\n",
    "            <td>0</td>\n",
    "        </tr>\n",
    "        <tr>\n",
    "            <td>Self-employed</td>\n",
    "            <td>1</td>\n",
    "            <td>Female</td>\n",
    "            <td>1</td>\n",
    "            <td>Rural</td>\n",
    "            <td>1</td>\n",
    "            <td>never smoked</td>\n",
    "            <td>1</td>\n",
    "            <td>No</td>\n",
    "            <td>1</td>\n",
    "        </tr>\n",
    "        <tr>\n",
    "            <td>Govt_job</td>\n",
    "            <td>2</td>\n",
    "            <td>smokes</td>\n",
    "            <td>2</td>\n",
    "        </tr>\n",
    "        <tr>\n",
    "            <td>children</td>\n",
    "            <td>3</td>\n",
    "            <td>Unknown</td>\n",
    "            <td>3</td>\n",
    "        </tr>\n",
    "        <tr>\n",
    "            <td>Never_worked</td>\n",
    "            <td>4</td>\n",
    "        </tr>\n",
    "    </tbody>\n",
    "</table>"
   ]
  },
  {
   "cell_type": "code",
   "execution_count": 3,
   "metadata": {},
   "outputs": [],
   "source": [
    "data['work_type'] = data['work_type'].map({'Private':0, 'Self-employed': 1, 'Govt_job':2, 'children':3, 'Never_worked':4})\n",
    "data['gender'] = data['gender'].map({'Male':0, 'Female':1})\n",
    "data['Residence_type'] = data['Residence_type'].map({'Urban':0, 'Rural':1})\n",
    "data['smoking_status'] = data['smoking_status'].map({'formerly smoked':0, 'never smoked':1, 'smokes':2, 'Unknown':3})\n",
    "data['ever_married'] = data['ever_married'].map({'Yes':0, 'No':1})\n",
    "\n",
    "#divide dataset into features and labels\n",
    "#drop ID because it's not necessary for analysis\n",
    "X = data.iloc[:, 1:-1]\n",
    "y = data[['stroke']]\n",
    "\n",
    "#replace null values again (1 in gender)\n",
    "X.gender=(X.gender.fillna(1))"
   ]
  },
  {
   "cell_type": "markdown",
   "metadata": {},
   "source": [
    "### Standardize data"
   ]
  },
  {
   "cell_type": "code",
   "execution_count": 4,
   "metadata": {},
   "outputs": [],
   "source": [
    "def standardize(X):\n",
    "    #Standardizes the data using the mean and standard deviation\n",
    "    mean = np.mean(X, axis = 0)\n",
    "    std = np.std(X, axis = 0, ddof=1)\n",
    "    s_X = (X - mean)/std\n",
    "\n",
    "    #add bias feature\n",
    "    bias = (np.ones((s_X.shape[0], 1)))\n",
    "    s_X = np.append(s_X, bias, axis=1)\n",
    "    return s_X"
   ]
  },
  {
   "cell_type": "code",
   "execution_count": 5,
   "metadata": {},
   "outputs": [],
   "source": [
    "s_X = standardize(X)"
   ]
  },
  {
   "cell_type": "markdown",
   "metadata": {},
   "source": [
    "### Handle Imbalanced Data"
   ]
  },
  {
   "cell_type": "code",
   "execution_count": 6,
   "metadata": {},
   "outputs": [],
   "source": [
    "smote = SMOTE()\n",
    "s_X, y = smote.fit_resample(s_X, y)"
   ]
  },
  {
   "cell_type": "markdown",
   "metadata": {},
   "source": [
    "### Functions used:"
   ]
  },
  {
   "cell_type": "markdown",
   "metadata": {},
   "source": [
    "#### Sigmoid"
   ]
  },
  {
   "cell_type": "code",
   "execution_count": 7,
   "metadata": {},
   "outputs": [],
   "source": [
    "def sigmoid(x, thetas):\n",
    "    return (1/(1 + math.e ** -(x @ thetas)))"
   ]
  },
  {
   "cell_type": "markdown",
   "metadata": {},
   "source": [
    "#### Gradient"
   ]
  },
  {
   "cell_type": "code",
   "execution_count": 8,
   "metadata": {},
   "outputs": [],
   "source": [
    "def gradient(X_train, y_train, thetas): \n",
    "    sig = sigmoid(X_train, thetas)\n",
    "    gradient = (X_train.T @ (sig - y_train))\n",
    "    return gradient"
   ]
  },
  {
   "cell_type": "markdown",
   "metadata": {},
   "source": [
    "#### Batch Gradient Descent"
   ]
  },
  {
   "cell_type": "code",
   "execution_count": 9,
   "metadata": {},
   "outputs": [],
   "source": [
    "def logisticBGD(X_train, y_train, X_test, y_test, n, m, kfold):\n",
    "    count_num = 0\n",
    "    new_cost = 0\n",
    "    percent_change = 1\n",
    "    thetas = np.random.uniform(-1, 1, 11).reshape(11,1)\n",
    "    \n",
    "    #Terminate when absolute value change of loss on the data is\n",
    "    #less than 2−23, or after 1500 iterations have passed (whichever occurs first).\n",
    "    while (percent_change > (2 ** -23)):\n",
    "        if (count_num == 1500):\n",
    "            break\n",
    "\n",
    "        #batch gradient descent\n",
    "        thetas = thetas - ((n/m) * gradient(X_train, y_train, thetas))\n",
    "\n",
    "        #cost\n",
    "        total_cost = -np.sum((1/m) * ((y_train * np.log(sigmoid(X_train, thetas) + epsilon)) + (1 - y_train) * np.log(1 - sigmoid(X_train,thetas) + epsilon)))\n",
    "\n",
    "        #percent change\n",
    "        percent_change = abs((new_cost - total_cost)/total_cost)\n",
    "        new_cost = total_cost\n",
    "\n",
    "        count_num = count_num + 1\n",
    "\n",
    "    #print(\"Thetas from batch gradient descent that minimize the loss function: \", thetas, \"\\n\")\n",
    "    if(kfold == \"kfold\"):\n",
    "        accuracy, precision, recall, F1 = prediction(y_test, X_test, thetas, kfold)\n",
    "        return accuracy, precision, recall, F1\n",
    "    if(kfold == \"no\"):\n",
    "        prediction(y_test, X_test, thetas, kfold)\n",
    "        "
   ]
  },
  {
   "cell_type": "markdown",
   "metadata": {},
   "source": [
    "#### Stochastic Gradient Descent"
   ]
  },
  {
   "cell_type": "code",
   "execution_count": 10,
   "metadata": {},
   "outputs": [],
   "source": [
    "def logisticSGD(X_train, y_train, y_test, X_test, n, m, kfold):\n",
    "    stoch_X_train = X_train\n",
    "    stoch_y_train = y_train\n",
    "    thetas = np.random.uniform(-1, 1, 11).reshape(11,1)\n",
    "    new_cost = 1\n",
    "    percent_change = 1\n",
    "    count_num = 1\n",
    "    \n",
    "    #Terminate when absolute value change of loss on the data is less than 2−23, or after 1500 iterations have passed.\n",
    "    while (percent_change > (2 ** -23)):\n",
    "        if (count_num == 1500):\n",
    "            break\n",
    "\n",
    "        #stochastic gradient descent\n",
    "        index = np.random.permutation(stoch_X_train.shape[0])\n",
    "        stoch_X_train = np.take(stoch_X_train,index,axis=0)\n",
    "        stoch_y_train = np.take(stoch_y_train,index,axis=0)\n",
    "        thetas = thetas - ((n/m) * gradient(stoch_X_train, stoch_y_train, thetas))\n",
    "\n",
    "        #cost\n",
    "        total_cost = -np.sum((1/m) * (stoch_y_train * np.log(sigmoid(stoch_X_train, thetas) + epsilon)) + (1 - stoch_y_train) * np.log(1 - sigmoid(stoch_X_train,thetas) + epsilon))\n",
    "\n",
    "        #percent change\n",
    "        percent_change = abs((new_cost - total_cost)/total_cost)\n",
    "        new_cost = total_cost\n",
    "        count_num = count_num + 1\n",
    "\n",
    "    #print(\"Thetas from stochastic gradient descent that minimize the loss function: \", thetas, \"\\n\")\n",
    "    if(kfold == \"kfold\"):\n",
    "        accuracy, precision, recall, F1 = prediction(y_test, X_test, thetas, kfold)\n",
    "        return accuracy, precision, recall, F1\n",
    "    if(kfold == \"no\"):\n",
    "        prediction(y_test, X_test, thetas, kfold)"
   ]
  },
  {
   "cell_type": "markdown",
   "metadata": {},
   "source": [
    "#### K-Folds split the data"
   ]
  },
  {
   "cell_type": "code",
   "execution_count": 11,
   "metadata": {},
   "outputs": [],
   "source": [
    "def cv_split(data, numfolds):\n",
    "    dataset = data\n",
    "    data_folds = []\n",
    "    fold_size = int(dataset.shape[0] / numfolds)\n",
    "        \n",
    "    for i in range(numfolds):\n",
    "        fold = []\n",
    "        \n",
    "        #add random data to the folds\n",
    "        while len(fold) < fold_size: \n",
    "            index = random.randrange(dataset.shape[0])\n",
    "            # save data at index to fold \n",
    "            fold.append(dataset.iloc[index].values.tolist())\n",
    "            # delete data line from dataset\n",
    "            dataset = dataset.drop(index,axis = 0)  \n",
    "            dataset.reset_index(drop=True, inplace=True)\n",
    "        data_folds.append(np.asarray(fold))\n",
    "            \n",
    "    return data_folds"
   ]
  },
  {
   "cell_type": "markdown",
   "metadata": {},
   "source": [
    "#### Cross Validation K-Folds"
   ]
  },
  {
   "cell_type": "code",
   "execution_count": 12,
   "metadata": {},
   "outputs": [],
   "source": [
    "def kfold(data, model, kfold, f=5):\n",
    "    data=cv_split(data,f)\n",
    "    result=[]\n",
    "    accuracy = []\n",
    "    precision = []\n",
    "    recall = []\n",
    "    F1 = []\n",
    "    \n",
    "    # determine training and test sets \n",
    "    for i in range(f):\n",
    "        r = list(range(f))\n",
    "        testi = data[i]\n",
    "        r.pop(i)\n",
    "        for j in r :\n",
    "            if j == r[0]:\n",
    "                traini = data[j]\n",
    "            else: \n",
    "                traini=np.concatenate((traini,data[j]), axis=0)\n",
    "        \n",
    "        k_train_x = traini[:, 0:-1]\n",
    "        k_train_y = traini[:, -1]\n",
    "        k_train_y = k_train_y.reshape(k_train_y.shape[0],1)\n",
    "        k_test_x = testi[:, 0:-1]\n",
    "        k_test_y = pd.DataFrame(testi[:, -1])\n",
    "        \n",
    "        if(model == \"batch\"):\n",
    "            accuracy1, precision1, recall1, F11 = logisticBGD(k_train_x, k_train_y, k_test_x, k_test_y, n, m, kfold)\n",
    "            accuracy.append(accuracy1)\n",
    "            precision.append(precision1)\n",
    "            recall.append(recall1)\n",
    "            F1.append(F11)\n",
    "        if(model == \"stochastic\"):\n",
    "            accuracy1, precision1, recall1, F11 = logisticSGD(k_train_x, k_train_y, k_test_y, k_test_x, n, m, kfold)\n",
    "            accuracy.append(accuracy1)\n",
    "            precision.append(precision1)\n",
    "            recall.append(recall1)\n",
    "            F1.append(F11)\n",
    "    print(\"Accuracies: \", np.array(accuracy)*100)\n",
    "    print(\"Precisions: \", np.array(precision)*100)\n",
    "    print(\"Recalls: \", np.array(recall)*100)\n",
    "    print(\"F-measures: \", np.array(F1)*100)"
   ]
  },
  {
   "cell_type": "markdown",
   "metadata": {},
   "source": [
    "#### Predict"
   ]
  },
  {
   "cell_type": "code",
   "execution_count": 13,
   "metadata": {},
   "outputs": [],
   "source": [
    "def prediction(y_test, X_test, thetas, kfold):\n",
    "    size_test = y_test.shape[0]\n",
    "    predictions = np.zeros(size_test)\n",
    "    TP = FP = TN = FN = accuracy = 0\n",
    "\n",
    "    #find probability for 1 and 0\n",
    "    for a in range(size_test):\n",
    "        p_1 = 1/(1 + math.e ** -(X_test[a] @ thetas))\n",
    "        p_0 = 1 - p_1\n",
    "        if(p_1 > p_0):\n",
    "            predictions[a] = 1\n",
    "        else:\n",
    "            predictions[a] = 0\n",
    "\n",
    "    #find TP, FP, TN, FN\n",
    "    for a in range(size_test):\n",
    "        if (predictions[a] == 1):\n",
    "            if (predictions[a] == y_test.iloc[a][0]):\n",
    "                TP = TP + 1\n",
    "                accuracy = accuracy + 1\n",
    "            else:\n",
    "                FP = FP + 1 \n",
    "        else:\n",
    "            if(predictions[a] == y_test.iloc[a][0]):\n",
    "                TN = TN + 1\n",
    "                accuracy = accuracy + 1\n",
    "            else:\n",
    "                FN = FN + 1\n",
    "\n",
    "    #precision, recall, f measure, accuracy\n",
    "    precision = TP/(TP+FP)\n",
    "    recall = TP/(TP+FN)\n",
    "    F1 = (2*precision*recall)/(precision + recall)\n",
    "    accuracy = accuracy/size_test\n",
    "    \n",
    "    if(kfold == \"kfold\"):\n",
    "        return accuracy, precision, recall, F1\n",
    "    \n",
    "    else:\n",
    "        print(\"Accuracy: \", accuracy* 100)\n",
    "        print(\"Precision: \", precision * 100)\n",
    "        print(\"Recall: \", recall* 100)\n",
    "        print(\"F-measure: \", F1* 100)\n",
    "        print(\"TP: \", TP,\"; FP: \", FP, \"; TN: \", TN, \"; FN: \", FN)"
   ]
  },
  {
   "cell_type": "markdown",
   "metadata": {},
   "source": [
    "## Results Without K-Folds"
   ]
  },
  {
   "cell_type": "markdown",
   "metadata": {},
   "source": [
    "#### Split the dataset into train and test"
   ]
  },
  {
   "cell_type": "code",
   "execution_count": 14,
   "metadata": {},
   "outputs": [],
   "source": [
    "X_train,X_test, y_train,y_test=train_test_split(s_X,y,test_size=0.33,random_state=0)\n",
    "y_train = y_train.values"
   ]
  },
  {
   "cell_type": "markdown",
   "metadata": {},
   "source": [
    "#### Common Variables"
   ]
  },
  {
   "cell_type": "code",
   "execution_count": 15,
   "metadata": {},
   "outputs": [],
   "source": [
    "random.seed(0)\n",
    "n = 0.01 #learning rate\n",
    "count = pd.DataFrame()\n",
    "percent_change = 1\n",
    "count_num = 1\n",
    "cost = 1\n",
    "m = X_train.shape[0]\n",
    "#y_train = y_train.to_numpy()\n",
    "epsilon = 1e-5 "
   ]
  },
  {
   "cell_type": "markdown",
   "metadata": {},
   "source": [
    "#### Logistic Regression using Batch Gradient Descent"
   ]
  },
  {
   "cell_type": "code",
   "execution_count": 16,
   "metadata": {},
   "outputs": [
    {
     "name": "stdout",
     "output_type": "stream",
     "text": [
      "Accuracy:  77.62542848239326\n",
      "Precision:  73.54635935044526\n",
      "Recall:  86.82745825602969\n",
      "F-measure:  79.6369824163358\n",
      "TP:  1404 ; FP:  505 ; TN:  1087 ; FN:  213\n"
     ]
    }
   ],
   "source": [
    "logisticBGD(X_train, y_train, X_test, y_test, n, m, \"no\")"
   ]
  },
  {
   "cell_type": "markdown",
   "metadata": {},
   "source": [
    "#### Logistic Regression using Stochastic Gradient Descent"
   ]
  },
  {
   "cell_type": "code",
   "execution_count": 17,
   "metadata": {},
   "outputs": [
    {
     "name": "stdout",
     "output_type": "stream",
     "text": [
      "Accuracy:  77.99937675288253\n",
      "Precision:  74.39742903053026\n",
      "Recall:  85.89981447124305\n",
      "F-measure:  79.73593570608496\n",
      "TP:  1389 ; FP:  478 ; TN:  1114 ; FN:  228\n"
     ]
    }
   ],
   "source": [
    "logisticSGD(X_train, y_train, y_test, X_test, n, m, \"no\")"
   ]
  },
  {
   "cell_type": "markdown",
   "metadata": {},
   "source": [
    "#### Built-in function"
   ]
  },
  {
   "cell_type": "code",
   "execution_count": 18,
   "metadata": {},
   "outputs": [
    {
     "name": "stdout",
     "output_type": "stream",
     "text": [
      "Accuracy:  0.7880959800560923\n",
      "Precision:  0.7651386530843237\n",
      "Recall:  0.8361162646876933\n",
      "F-measure:  0.7990543735224587\n"
     ]
    },
    {
     "data": {
      "image/png": "[encoded data removed]",
      "text/plain": [
       "<Figure size 432x288 with 2 Axes>"
      ]
     },
     "metadata": {
      "needs_background": "light"
     },
     "output_type": "display_data"
    }
   ],
   "source": [
    "X_train,X_test, y_train,y_test=train_test_split(s_X,y,test_size=0.33,random_state=0)\n",
    "y_train = y_train.values.ravel()\n",
    "import matplotlib.pyplot as plt\n",
    "from sklearn.linear_model import LogisticRegression\n",
    "from sklearn import metrics\n",
    "import seaborn as sn\n",
    "\n",
    "#y_train = y_train.ravel()\n",
    "logistic_regression= LogisticRegression()\n",
    "logistic_regression.fit(X_train,y_train)\n",
    "y_pred=logistic_regression.predict(X_test)\n",
    "y_test = y_test.values\n",
    "y_test = y_test.reshape(3209,)\n",
    "confusion_matrix = pd.crosstab(y_test, y_pred, rownames=['Actual'], colnames=['Predicted'])\n",
    "sn.heatmap(confusion_matrix, annot=True)\n",
    "print('Accuracy: ',metrics.accuracy_score(y_test, y_pred))\n",
    "print('Precision: ',metrics.precision_score(y_test, y_pred,zero_division=0))\n",
    "print('Recall: ',metrics.recall_score(y_test, y_pred))\n",
    "print('F-measure: ',metrics.f1_score(y_test, y_pred,zero_division=0))\n",
    "\n",
    "plt.show()"
   ]
  },
  {
   "cell_type": "markdown",
   "metadata": {},
   "source": [
    "## Results With K-Folds"
   ]
  },
  {
   "cell_type": "code",
   "execution_count": 19,
   "metadata": {},
   "outputs": [],
   "source": [
    "data = np.append(s_X, y, axis=1)\n",
    "data = pd.DataFrame(data)"
   ]
  },
  {
   "cell_type": "markdown",
   "metadata": {},
   "source": [
    "#### Logistic Regression using Batch Gradient Descent, k-folds = 5"
   ]
  },
  {
   "cell_type": "code",
   "execution_count": 20,
   "metadata": {},
   "outputs": [
    {
     "name": "stdout",
     "output_type": "stream",
     "text": [
      "Accuracies:  [77.77777778 78.54938272 78.54938272 78.49794239 77.77777778]\n",
      "Precisions:  [73.55595668 76.32763276 72.64150943 75.75757576 74.50805009]\n",
      "Recalls:  [85.42976939 84.63073852 89.62962963 84.26966292 85.        ]\n",
      "F-measures:  [79.04946654 80.26502603 80.24632875 79.78723404 79.40896092]\n"
     ]
    }
   ],
   "source": [
    "kfold(data, \"batch\", \"kfold\", 5)"
   ]
  },
  {
   "cell_type": "markdown",
   "metadata": {},
   "source": [
    "#### Logistic Regression using Stochastic Gradient Descent, k-folds = 5"
   ]
  },
  {
   "cell_type": "code",
   "execution_count": 21,
   "metadata": {},
   "outputs": [
    {
     "name": "stdout",
     "output_type": "stream",
     "text": [
      "Accuracies:  [78.85802469 77.88065844 78.3436214  78.24074074 78.49794239]\n",
      "Precisions:  [73.58818419 74.13024086 76.67560322 74.52054795 73.82847038]\n",
      "Recalls:  [88.78406709 85.58187436 84.28290766 85.         87.25182863]\n",
      "F-measures:  [80.47505938 79.44550669 80.29948526 79.41605839 79.98084291]\n"
     ]
    }
   ],
   "source": [
    "kfold(data, \"stochastic\", \"kfold\", 5)"
   ]
  },
  {
   "cell_type": "code",
   "execution_count": null,
   "metadata": {},
   "outputs": [],
   "source": []
  }
 ],
 "metadata": {
  "kernelspec": {
   "display_name": "Python 3",
   "language": "python",
   "name": "python3"
  },
  "language_info": {
   "codemirror_mode": {
    "name": "ipython",
    "version": 3
   },
   "file_extension": ".py",
   "mimetype": "text/x-python",
   "name": "python",
   "nbconvert_exporter": "python",
   "pygments_lexer": "ipython3",
   "version": "3.8.5"
  }
 },
 "nbformat": 4,
 "nbformat_minor": 4
}
