{
 "cells": [
  {
   "cell_type": "code",
   "execution_count": 1,
   "metadata": {
    "collapsed": true
   },
   "outputs": [],
   "source": [
    "import matplotlib.pyplot as plt\n",
    "import numpy as np\n",
    "import pandas as pd\n",
    "import seaborn as sns\n",
    "from imblearn.over_sampling import SMOTE\n",
    "from sklearn.ensemble import RandomForestClassifier\n",
    "from sklearn.metrics import accuracy_score, f1_score, precision_score, recall_score, confusion_matrix\n",
    "from sklearn.model_selection import train_test_split\n",
    "from sklearn.preprocessing import StandardScaler, LabelEncoder\n",
    "from sklearn.tree import DecisionTreeClassifier"
   ]
  },
  {
   "cell_type": "code",
   "execution_count": 2,
   "outputs": [
    {
     "data": {
      "text/plain": "      id  gender   age  hypertension  heart_disease ever_married  \\\n0   9046    Male  67.0             0              1          Yes   \n1  51676  Female  61.0             0              0          Yes   \n2  31112    Male  80.0             0              1          Yes   \n3  60182  Female  49.0             0              0          Yes   \n4   1665  Female  79.0             1              0          Yes   \n\n       work_type Residence_type  avg_glucose_level   bmi   smoking_status  \\\n0        Private          Urban             228.69  36.6  formerly smoked   \n1  Self-employed          Rural             202.21   NaN     never smoked   \n2        Private          Rural             105.92  32.5     never smoked   \n3        Private          Urban             171.23  34.4           smokes   \n4  Self-employed          Rural             174.12  24.0     never smoked   \n\n   stroke  \n0       1  \n1       1  \n2       1  \n3       1  \n4       1  ",
      "text/html": "<div>\n<style scoped>\n    .dataframe tbody tr th:only-of-type {\n        vertical-align: middle;\n    }\n\n    .dataframe tbody tr th {\n        vertical-align: top;\n    }\n\n    .dataframe thead th {\n        text-align: right;\n    }\n</style>\n<table border=\"1\" class=\"dataframe\">\n  <thead>\n    <tr style=\"text-align: right;\">\n      <th></th>\n      <th>id</th>\n      <th>gender</th>\n      <th>age</th>\n      <th>hypertension</th>\n      <th>heart_disease</th>\n      <th>ever_married</th>\n      <th>work_type</th>\n      <th>Residence_type</th>\n      <th>avg_glucose_level</th>\n      <th>bmi</th>\n      <th>smoking_status</th>\n      <th>stroke</th>\n    </tr>\n  </thead>\n  <tbody>\n    <tr>\n      <th>0</th>\n      <td>9046</td>\n      <td>Male</td>\n      <td>67.0</td>\n      <td>0</td>\n      <td>1</td>\n      <td>Yes</td>\n      <td>Private</td>\n      <td>Urban</td>\n      <td>228.69</td>\n      <td>36.6</td>\n      <td>formerly smoked</td>\n      <td>1</td>\n    </tr>\n    <tr>\n      <th>1</th>\n      <td>51676</td>\n      <td>Female</td>\n      <td>61.0</td>\n      <td>0</td>\n      <td>0</td>\n      <td>Yes</td>\n      <td>Self-employed</td>\n      <td>Rural</td>\n      <td>202.21</td>\n      <td>NaN</td>\n      <td>never smoked</td>\n      <td>1</td>\n    </tr>\n    <tr>\n      <th>2</th>\n      <td>31112</td>\n      <td>Male</td>\n      <td>80.0</td>\n      <td>0</td>\n      <td>1</td>\n      <td>Yes</td>\n      <td>Private</td>\n      <td>Rural</td>\n      <td>105.92</td>\n      <td>32.5</td>\n      <td>never smoked</td>\n      <td>1</td>\n    </tr>\n    <tr>\n      <th>3</th>\n      <td>60182</td>\n      <td>Female</td>\n      <td>49.0</td>\n      <td>0</td>\n      <td>0</td>\n      <td>Yes</td>\n      <td>Private</td>\n      <td>Urban</td>\n      <td>171.23</td>\n      <td>34.4</td>\n      <td>smokes</td>\n      <td>1</td>\n    </tr>\n    <tr>\n      <th>4</th>\n      <td>1665</td>\n      <td>Female</td>\n      <td>79.0</td>\n      <td>1</td>\n      <td>0</td>\n      <td>Yes</td>\n      <td>Self-employed</td>\n      <td>Rural</td>\n      <td>174.12</td>\n      <td>24.0</td>\n      <td>never smoked</td>\n      <td>1</td>\n    </tr>\n  </tbody>\n</table>\n</div>"
     },
     "execution_count": 2,
     "metadata": {},
     "output_type": "execute_result"
    }
   ],
   "source": [
    "data = pd.read_csv('./stroke_data.csv')\n",
    "data.head()"
   ],
   "metadata": {
    "collapsed": false,
    "pycharm": {
     "name": "#%%\n"
    }
   }
  },
  {
   "cell_type": "code",
   "execution_count": 3,
   "outputs": [],
   "source": [
    "avg = data['bmi'].mean()\n",
    "data.bmi = data.bmi.fillna(avg)"
   ],
   "metadata": {
    "collapsed": false,
    "pycharm": {
     "name": "#%%\n"
    }
   }
  },
  {
   "cell_type": "code",
   "execution_count": 4,
   "outputs": [
    {
     "data": {
      "text/plain": "      id  gender   age  hypertension  heart_disease  ever_married  work_type  \\\n0   9046       1  67.0             0              1             1          2   \n1  51676       0  61.0             0              0             1          3   \n2  31112       1  80.0             0              1             1          2   \n3  60182       0  49.0             0              0             1          2   \n4   1665       0  79.0             1              0             1          3   \n\n   Residence_type  avg_glucose_level        bmi  smoking_status  stroke  \n0               1             228.69  36.600000               1       1  \n1               0             202.21  28.893237               2       1  \n2               0             105.92  32.500000               2       1  \n3               1             171.23  34.400000               3       1  \n4               0             174.12  24.000000               2       1  ",
      "text/html": "<div>\n<style scoped>\n    .dataframe tbody tr th:only-of-type {\n        vertical-align: middle;\n    }\n\n    .dataframe tbody tr th {\n        vertical-align: top;\n    }\n\n    .dataframe thead th {\n        text-align: right;\n    }\n</style>\n<table border=\"1\" class=\"dataframe\">\n  <thead>\n    <tr style=\"text-align: right;\">\n      <th></th>\n      <th>id</th>\n      <th>gender</th>\n      <th>age</th>\n      <th>hypertension</th>\n      <th>heart_disease</th>\n      <th>ever_married</th>\n      <th>work_type</th>\n      <th>Residence_type</th>\n      <th>avg_glucose_level</th>\n      <th>bmi</th>\n      <th>smoking_status</th>\n      <th>stroke</th>\n    </tr>\n  </thead>\n  <tbody>\n    <tr>\n      <th>0</th>\n      <td>9046</td>\n      <td>1</td>\n      <td>67.0</td>\n      <td>0</td>\n      <td>1</td>\n      <td>1</td>\n      <td>2</td>\n      <td>1</td>\n      <td>228.69</td>\n      <td>36.600000</td>\n      <td>1</td>\n      <td>1</td>\n    </tr>\n    <tr>\n      <th>1</th>\n      <td>51676</td>\n      <td>0</td>\n      <td>61.0</td>\n      <td>0</td>\n      <td>0</td>\n      <td>1</td>\n      <td>3</td>\n      <td>0</td>\n      <td>202.21</td>\n      <td>28.893237</td>\n      <td>2</td>\n      <td>1</td>\n    </tr>\n    <tr>\n      <th>2</th>\n      <td>31112</td>\n      <td>1</td>\n      <td>80.0</td>\n      <td>0</td>\n      <td>1</td>\n      <td>1</td>\n      <td>2</td>\n      <td>0</td>\n      <td>105.92</td>\n      <td>32.500000</td>\n      <td>2</td>\n      <td>1</td>\n    </tr>\n    <tr>\n      <th>3</th>\n      <td>60182</td>\n      <td>0</td>\n      <td>49.0</td>\n      <td>0</td>\n      <td>0</td>\n      <td>1</td>\n      <td>2</td>\n      <td>1</td>\n      <td>171.23</td>\n      <td>34.400000</td>\n      <td>3</td>\n      <td>1</td>\n    </tr>\n    <tr>\n      <th>4</th>\n      <td>1665</td>\n      <td>0</td>\n      <td>79.0</td>\n      <td>1</td>\n      <td>0</td>\n      <td>1</td>\n      <td>3</td>\n      <td>0</td>\n      <td>174.12</td>\n      <td>24.000000</td>\n      <td>2</td>\n      <td>1</td>\n    </tr>\n  </tbody>\n</table>\n</div>"
     },
     "execution_count": 4,
     "metadata": {},
     "output_type": "execute_result"
    }
   ],
   "source": [
    "enc = LabelEncoder()\n",
    "object_col = [col for col in data.columns if data[col].dtype == 'object']\n",
    "for col in object_col:\n",
    "    data[col] = enc.fit_transform(data[col])\n",
    "\n",
    "data.head()"
   ],
   "metadata": {
    "collapsed": false,
    "pycharm": {
     "name": "#%%\n"
    }
   }
  },
  {
   "cell_type": "code",
   "execution_count": 5,
   "outputs": [],
   "source": [
    "#divide dataset into features and labels\n",
    "#drop ID because it's not necessary for analysis\n",
    "X = data.iloc[:, 1:-1]\n",
    "y = data.loc[:, 'stroke']\n",
    "X.gender = (X.gender.fillna(1))"
   ],
   "metadata": {
    "collapsed": false,
    "pycharm": {
     "name": "#%%\n"
    }
   }
  },
  {
   "cell_type": "code",
   "execution_count": 6,
   "outputs": [
    {
     "name": "stderr",
     "output_type": "stream",
     "text": [
      "/Users/kevinkarnani/.conda/envs/myenv/lib/python3.9/site-packages/seaborn/distributions.py:2557: FutureWarning: `distplot` is a deprecated function and will be removed in a future version. Please adapt your code to use either `displot` (a figure-level function with similar flexibility) or `histplot` (an axes-level function for histograms).\n",
      "  warnings.warn(msg, FutureWarning)\n"
     ]
    },
    {
     "data": {
      "text/plain": "<Figure size 1080x360 with 1 Axes>",
      "image/png": "[encoded data removed]"
     },
     "metadata": {
      "needs_background": "light"
     },
     "output_type": "display_data"
    }
   ],
   "source": [
    "plt.subplots(figsize=(15, 5))\n",
    "sns.distplot(data['bmi'])\n",
    "plt.title('Distribution of BMI')\n",
    "plt.show()"
   ],
   "metadata": {
    "collapsed": false,
    "pycharm": {
     "name": "#%%\n"
    }
   }
  },
  {
   "cell_type": "code",
   "execution_count": 7,
   "outputs": [
    {
     "name": "stderr",
     "output_type": "stream",
     "text": [
      "/Users/kevinkarnani/.conda/envs/myenv/lib/python3.9/site-packages/seaborn/distributions.py:2557: FutureWarning: `distplot` is a deprecated function and will be removed in a future version. Please adapt your code to use either `displot` (a figure-level function with similar flexibility) or `histplot` (an axes-level function for histograms).\n",
      "  warnings.warn(msg, FutureWarning)\n"
     ]
    },
    {
     "data": {
      "text/plain": "<Figure size 1080x360 with 1 Axes>",
      "image/png": "[encoded data removed]"
     },
     "metadata": {
      "needs_background": "light"
     },
     "output_type": "display_data"
    }
   ],
   "source": [
    "plt.subplots(figsize=(15, 5))\n",
    "sns.distplot(data['avg_glucose_level'])\n",
    "plt.title('Distribution of avg_glucose_level', fontsize=20)\n",
    "plt.show()"
   ],
   "metadata": {
    "collapsed": false,
    "pycharm": {
     "name": "#%%\n"
    }
   }
  },
  {
   "cell_type": "code",
   "execution_count": 8,
   "outputs": [
    {
     "data": {
      "text/plain": "<Figure size 432x288 with 1 Axes>",
      "image/png": "[encoded data removed]"
     },
     "metadata": {
      "needs_background": "light"
     },
     "output_type": "display_data"
    }
   ],
   "source": [
    "data['stroke'].value_counts(dropna=False).plot.bar()\n",
    "plt.title('Comparison of stroke feature')\n",
    "plt.xlabel('Not Stroke vs Stroke')\n",
    "plt.ylabel('Count')\n",
    "plt.show()"
   ],
   "metadata": {
    "collapsed": false,
    "pycharm": {
     "name": "#%%\n"
    }
   }
  },
  {
   "cell_type": "code",
   "execution_count": 9,
   "outputs": [
    {
     "name": "stdout",
     "output_type": "stream",
     "text": [
      "Before OverSampling, counts of label '1': 249\n",
      "Before OverSampling, counts of label '0': 4861 \n",
      "\n",
      "After OverSampling, counts of label '1': 4861\n",
      "After OverSampling, counts of label '0': 4861\n"
     ]
    }
   ],
   "source": [
    "s_X = pd.DataFrame(StandardScaler().fit_transform(X.values))\n",
    "\n",
    "print(f'Before OverSampling, counts of label \\'1\\': {sum(y == 1)}')\n",
    "print(f'Before OverSampling, counts of label \\'0\\': {sum(y == 0)} \\n')\n",
    "s_X, y = SMOTE().fit_resample(s_X, y)\n",
    "print(f'After OverSampling, counts of label \\'1\\': {sum(y == 1)}')\n",
    "print(f'After OverSampling, counts of label \\'0\\': {sum(y == 0)}')\n",
    "X_train, X_test, y_train, y_test = train_test_split(s_X, y, test_size=0.33, random_state=0)"
   ],
   "metadata": {
    "collapsed": false,
    "pycharm": {
     "name": "#%%\n"
    }
   }
  },
  {
   "cell_type": "code",
   "execution_count": 10,
   "outputs": [],
   "source": [
    "'''def potential_splits(all_data):\n",
    "    \"\"\"Find all unique values to split on for all columns\"\"\"\n",
    "    splits = {}\n",
    "    for i in range(all_data.shape[1] - 1):\n",
    "        values = all_data.loc[:, all_data.columns[i]].unique()\n",
    "        splits[i] = pd.unique(np.round([(values[j] + values[j - 1]) / 2 for j in range(1, len(values))], 3))\n",
    "    return splits'''\n",
    "\n",
    "\n",
    "def binarize(all_data):\n",
    "    return (all_data > all_data.mean(axis=0)).astype(int)\n",
    "\n",
    "\n",
    "def split_data(all_data, col, val):\n",
    "    \"\"\"Find data above and below value by given column\"\"\"\n",
    "    return all_data[all_data.loc[:, col] > val], all_data[all_data.loc[:, col] <= val]\n",
    "\n",
    "\n",
    "def entropy(all_data):\n",
    "    \"\"\"Find total entropy\"\"\"\n",
    "    counts = all_data.loc[:, 'stroke'].value_counts()\n",
    "    return -sum(counts / counts.sum() * np.log2(counts / counts.sum()))\n",
    "\n",
    "\n",
    "def separate_entropy(data_above, data_below):\n",
    "    \"\"\"Find feature entropy\"\"\"\n",
    "    n = len(data_above) * len(data_below) + np.finfo(float).eps\n",
    "    return len(data_above) / n * entropy(data_above) + len(data_below) * entropy(data_below)\n",
    "\n",
    "\n",
    "def find_best(all_data, attributes):\n",
    "    \"\"\"Given all attributes, find feature entropy, and then find best feature\"\"\"\n",
    "    overall_entropy = np.iinfo(np.int32).max\n",
    "    best_col = best_val = None\n",
    "    for col in attributes:\n",
    "        for val in all_data.loc[:, col].unique():\n",
    "            above, below = split_data(all_data, col, val)\n",
    "            current_entropy = separate_entropy(above, below)\n",
    "\n",
    "            if current_entropy <= overall_entropy:\n",
    "                overall_entropy = current_entropy\n",
    "                best_col = col\n",
    "                best_val = val\n",
    "\n",
    "    return best_col, best_val"
   ],
   "metadata": {
    "collapsed": false,
    "pycharm": {
     "name": "#%%\n"
    }
   }
  },
  {
   "cell_type": "code",
   "execution_count": 11,
   "outputs": [],
   "source": [
    "def id3(all_data, attributes):\n",
    "    \"\"\"Build the tree by recursing through all features\"\"\"\n",
    "    y_data = all_data.loc[:, 'stroke']\n",
    "    if all_data.empty or len(y_data.unique()) == 1 or len(attributes) == 1:\n",
    "        return y_train.value_counts().argmax()\n",
    "    all_data = binarize(all_data)\n",
    "    col, val = find_best(all_data, attributes)\n",
    "    above, below = split_data(all_data, col, val)\n",
    "    feature = f\"{col} <= {val}\"\n",
    "    subtree = {feature: []}\n",
    "    new_attributes = np.delete(attributes, list(attributes).index(col))\n",
    "    above = above.drop(col, axis=1)\n",
    "    below = below.drop(col, axis=1)\n",
    "    above = id3(above, new_attributes)\n",
    "    below = id3(below, new_attributes)\n",
    "    subtree[feature].append(below)\n",
    "    subtree[feature].append(above)\n",
    "    return subtree\n",
    "\n",
    "\n",
    "all_data_train = X_train.copy()\n",
    "all_data_train.loc[:, 'stroke'] = y_train\n",
    "all_data_train.columns = data.columns[1:]\n",
    "\n",
    "tree = id3(all_data_train, X.columns)"
   ],
   "metadata": {
    "collapsed": false,
    "pycharm": {
     "name": "#%%\n"
    }
   }
  },
  {
   "cell_type": "code",
   "execution_count": 12,
   "outputs": [
    {
     "name": "stdout",
     "output_type": "stream",
     "text": [
      "Accuracy: 0.496104705515737\n",
      "Precision: 0.0\n",
      "Recall: 0.0\n",
      "F-score: 0.0\n"
     ]
    },
    {
     "name": "stderr",
     "output_type": "stream",
     "text": [
      "/Users/kevinkarnani/.conda/envs/myenv/lib/python3.9/site-packages/sklearn/metrics/_classification.py:1248: UndefinedMetricWarning: Precision is ill-defined and being set to 0.0 due to no predicted samples. Use `zero_division` parameter to control this behavior.\n",
      "  _warn_prf(average, modifier, msg_start, len(result))\n"
     ]
    }
   ],
   "source": [
    "def classify(example, tree):\n",
    "    feature = list(tree.keys())[0]\n",
    "    name, _, val = feature.split()\n",
    "    ans = tree[feature][0] if example[name] <= float(val) else tree[feature][1]\n",
    "\n",
    "    if not isinstance(ans, dict):\n",
    "        return ans\n",
    "    return classify(example, ans)\n",
    "\n",
    "\n",
    "def metrics(all_data, tree):\n",
    "    y_pred = all_data.apply(classify, axis=1, args=(tree,))\n",
    "    y_data = all_data.loc[:, 'stroke']\n",
    "    print(f'Accuracy: {accuracy_score(y_data, y_pred)}')\n",
    "    print(f'Precision: {precision_score(y_data, y_pred)}')\n",
    "    print(f'Recall: {recall_score(y_data, y_pred)}')\n",
    "    print(f'F-score: {f1_score(y_data, y_pred)}')\n",
    "\n",
    "\n",
    "all_data_test = X_test.copy()\n",
    "all_data_test.loc[:, 'stroke'] = y_test\n",
    "all_data_test.columns = data.columns[1:]\n",
    "\n",
    "metrics(all_data_test, tree)"
   ],
   "metadata": {
    "collapsed": false,
    "pycharm": {
     "name": "#%%\n"
    }
   }
  },
  {
   "cell_type": "code",
   "execution_count": 13,
   "outputs": [],
   "source": [
    "# ens = TreeEnsemble(X_train, y_train, 5, 1000)\n",
    "# preds = ens.predict(X_test.values)\n",
    "# accuracy = accuracy_score(y_test, preds)\n",
    "# recall = recall_score(y_test, preds)\n",
    "# precision = precision_score(y_test, preds, zero_division=0)\n",
    "# f_measure = f1_score(y_test, preds)\n",
    "#\n",
    "# print(\"Accuracy: \", accuracy * 100, \"%\")\n",
    "# print(\"Recall: \", recall * 100, \"%\")\n",
    "# print(\"Precision: \", precision * 100, \"%\")\n",
    "# print(\"F-measure: \", f_measure * 100, \"%\")"
   ],
   "metadata": {
    "collapsed": false,
    "pycharm": {
     "name": "#%%\n"
    }
   }
  },
  {
   "cell_type": "code",
   "execution_count": 14,
   "outputs": [
    {
     "name": "stdout",
     "output_type": "stream",
     "text": [
      "Accuracy: 0.9520099719538797\n",
      "Precision: 0.944140862173649\n",
      "Recall: 0.9616573902288188\n",
      "F-score: 0.9528186274509804\n"
     ]
    },
    {
     "data": {
      "text/plain": "<Figure size 432x288 with 2 Axes>",
      "image/png": "[encoded data removed]"
     },
     "metadata": {
      "needs_background": "light"
     },
     "output_type": "display_data"
    }
   ],
   "source": [
    "rf = RandomForestClassifier(class_weight='balanced', criterion='entropy')\n",
    "rf.fit(X_train, y_train)\n",
    "y_pred_rf = rf.predict(X_test)\n",
    "print(f'Accuracy: {accuracy_score(y_test, y_pred_rf)}')\n",
    "print(f'Precision: {precision_score(y_test, y_pred_rf)}')\n",
    "print(f'Recall: {recall_score(y_test, y_pred_rf)}')\n",
    "print(f'F-score: {f1_score(y_test, y_pred_rf)}')\n",
    "\n",
    "sns.heatmap(confusion_matrix(y_test, y_pred_rf), annot=True)\n",
    "plt.show()"
   ],
   "metadata": {
    "collapsed": false,
    "pycharm": {
     "name": "#%%\n"
    }
   }
  },
  {
   "cell_type": "code",
   "execution_count": 15,
   "outputs": [
    {
     "name": "stdout",
     "output_type": "stream",
     "text": [
      "Accuracy: 0.9146151449049548\n",
      "Precision: 0.9112063686466626\n",
      "Recall: 0.9202226345083488\n",
      "F-score: 0.9156923076923078\n"
     ]
    },
    {
     "data": {
      "text/plain": "<Figure size 432x288 with 2 Axes>",
      "image/png": "[encoded data removed]"
     },
     "metadata": {
      "needs_background": "light"
     },
     "output_type": "display_data"
    }
   ],
   "source": [
    "id3_tree = DecisionTreeClassifier(class_weight='balanced', criterion='entropy')\n",
    "id3_tree.fit(X_train, y_train)\n",
    "y_pred_id3 = id3_tree.predict(X_test)\n",
    "\n",
    "print(f'Accuracy: {accuracy_score(y_test, y_pred_id3)}')\n",
    "print(f'Precision: {precision_score(y_test, y_pred_id3)}')\n",
    "print(f'Recall: {recall_score(y_test, y_pred_id3)}')\n",
    "print(f'F-score: {f1_score(y_test, y_pred_id3)}')\n",
    "\n",
    "sns.heatmap(confusion_matrix(y_test, y_pred_id3), annot=True)\n",
    "plt.show()"
   ],
   "metadata": {
    "collapsed": false,
    "pycharm": {
     "name": "#%%\n"
    }
   }
  }
 ],
 "metadata": {
  "kernelspec": {
   "display_name": "Python 3",
   "language": "python",
   "name": "python3"
  },
  "language_info": {
   "codemirror_mode": {
    "name": "ipython",
    "version": 2
   },
   "file_extension": ".py",
   "mimetype": "text/x-python",
   "name": "python",
   "nbconvert_exporter": "python",
   "pygments_lexer": "ipython2",
   "version": "2.7.6"
  }
 },
 "nbformat": 4,
 "nbformat_minor": 0
}